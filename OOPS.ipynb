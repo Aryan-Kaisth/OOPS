{
  "nbformat": 4,
  "nbformat_minor": 0,
  "metadata": {
    "colab": {
      "provenance": []
    },
    "kernelspec": {
      "name": "python3",
      "display_name": "Python 3"
    },
    "language_info": {
      "name": "python"
    }
  },
  "cells": [
    {
      "cell_type": "markdown",
      "source": [
        "\n",
        "\n",
        "---\n",
        "\n",
        "\n",
        "**Question 1**\n",
        "\n",
        "1. **Inheritance**\n",
        "\n",
        "  * It is the concept where a new class(called a child or subclass) is created based on an existing class (called a parent or superclass).\n",
        "  * The child class inherits the attributes and methods of the parent class\n",
        "  * Types of inheritance include **single**, **multiple**, **multilevel**, **hierarchical**, and **hybrid** inheritance.\n",
        "\n",
        "2. **Abstraction**\n",
        "\n",
        "  * It is the concept of hiding complex implementation details and exposes only the necessary parts of an object.\n",
        "  * To use abstraction use abstract base class `@abc.abstractmethod`\n",
        "3. **Polymorphism**\n",
        "\n",
        "  * Enables objects to be treated as instances of their parent class, allowing for multiple forms.\n",
        "  * It Can be achieved through method overriding and method overloading.\n",
        "\n",
        "4. **Encapsulation**\n",
        "\n",
        "  * It is the concept of bundling attributes and methods inside a class, while restricting direct access to some parts of the data.\n",
        "  * Access modifiers are used to define the visibility of methods and attributes\n",
        "  * Three typesof access modifiers are **Private**, **Proctected**, P**ublic(default)**.\n",
        "5. **Class, Object,Attributes and method**\n",
        "\n",
        "  * A class is a blueprint or template for creating objects. It defines a set of attributes (data) and methods (functions) that the created objects will have.\n",
        "\n",
        "  * An object is an instance of a class. When a class is instantiated, it creates an object that has the properties and behaviors defined by the class.\n",
        "\n",
        "  * Attributes are the variables that belong to a class. They hold the data associated with an object.\n",
        "  \n",
        "  * Methods are functions defined within a class that describe the behaviors of the objects created from that class. They can operate on the attributes of the class and can be called on the objects.  "
      ],
      "metadata": {
        "id": "8Z2fDaqDXrgG"
      }
    },
    {
      "cell_type": "markdown",
      "source": [
        "\n",
        "\n",
        "---\n",
        "\n",
        "\n",
        "**Question 2**"
      ],
      "metadata": {
        "id": "Or9OK0BOf0g0"
      }
    },
    {
      "cell_type": "code",
      "source": [
        "class Car:\n",
        "    # Constructor to initialize the Car object with make, model, and year attributes\n",
        "    def __init__(self, make, model, year):\n",
        "        self.make = make    # Brand of the car\n",
        "        self.model = model  # Model of the car\n",
        "        self.year = year    # Year of manufacture\n",
        "\n",
        "    # Method to display the car's information\n",
        "    def display_info(self):\n",
        "\n",
        "        # Returns a formatted string with the car's details\n",
        "        return f\"This is a {self.make} {self.model} of {self.year}\"\n",
        "\n",
        "# Creating an instance of the Car class with specific values\n",
        "car1 = Car(\"Toyota\", \"Supra\", 2022)\n",
        "\n",
        "# Calling the display_info method on the car1 instance to print car details\n",
        "print(car1.display_info())  # Output: This is a Toyota Supra of 2022\n"
      ],
      "metadata": {
        "colab": {
          "base_uri": "https://localhost:8080/"
        },
        "id": "b4o0eZ0eco8-",
        "outputId": "01562415-1242-4b14-96e4-5db556ed7aba"
      },
      "execution_count": 65,
      "outputs": [
        {
          "output_type": "stream",
          "name": "stdout",
          "text": [
            "This is a Toyota Supra of 2022\n"
          ]
        }
      ]
    },
    {
      "cell_type": "markdown",
      "source": [
        "\n",
        "\n",
        "---\n",
        "\n",
        "\n",
        "**Question 3**\n",
        "\n",
        "*Instance Methods*\n",
        "\n",
        "Definition: Instance methods are the most common type of methods. They operate on an instance of the class (an object) and can access and modify the instance's attributes. They are defined with `self` as the first parameter, which refers to the instance of the class.\n",
        "\n",
        "*Class methods*\n",
        "\n",
        " Definition: Class methods are defined using the `@classmethod` decorator and take `cls` as the first parameter, which refers to the class itself rather than an instance of the class. They can accesc/modify attributes and methods associated with the class.\n",
        "\n"
      ],
      "metadata": {
        "id": "ZygdX7-InA2z"
      }
    },
    {
      "cell_type": "code",
      "source": [
        "class Dog:\n",
        "    def __init__(self, name, age):\n",
        "        self.name = name  # Instance attribute\n",
        "        self.age = age    # Instance attribute\n",
        "\n",
        "    def bark(self):  # Instance method\n",
        "        return f\"{self.name} says woof!\"\n",
        "\n",
        "# Creating an instance of Dog\n",
        "my_dog = Dog(\"Buddy\", 3)\n",
        "print(my_dog.bark())  # Output: Buddy says woof!\n"
      ],
      "metadata": {
        "id": "hMqs3OSunXGy",
        "colab": {
          "base_uri": "https://localhost:8080/"
        },
        "outputId": "0f0a733a-4572-4d68-ffe8-ea98f6ea55c2"
      },
      "execution_count": 64,
      "outputs": [
        {
          "output_type": "stream",
          "name": "stdout",
          "text": [
            "Buddy says woof!\n"
          ]
        }
      ]
    },
    {
      "cell_type": "code",
      "source": [
        "class Dog:\n",
        "    def __init__(self, name, age):\n",
        "        self.name = name  # Instance attribute\n",
        "        self.age = age    # Instance attribute\n",
        "\n",
        "    @classmethod\n",
        "    def greet(cls, name):  # Class method\n",
        "        return f\"{name}, welcome to the Dog class!\"\n",
        "\n",
        "# Calling the class method\n",
        "print(Dog.greet(\"bruno\"))"
      ],
      "metadata": {
        "colab": {
          "base_uri": "https://localhost:8080/"
        },
        "id": "0m5Wr_PHo6PR",
        "outputId": "294e4d87-d5f3-4e6a-bd4f-b16cc76d4708"
      },
      "execution_count": 63,
      "outputs": [
        {
          "output_type": "stream",
          "name": "stdout",
          "text": [
            "bruno, welcome to the Dog class!\n"
          ]
        }
      ]
    },
    {
      "cell_type": "markdown",
      "source": [
        "\n",
        "\n",
        "---\n",
        "\n",
        "\n",
        "**Question 4**\n",
        "\n",
        "Python does not support method overloading in the same way that languages like Java or C++ do. In Python, if you define a method with the same name multiple times in a class, the last definition will overwrite the previous ones. However, you can achieve similar behavior using default parameters or variable-length arguments(args, kwargs)."
      ],
      "metadata": {
        "id": "cfdRwp8NbJ-D"
      }
    },
    {
      "cell_type": "code",
      "source": [
        "class MathOperations:\n",
        "    def add(self, a, b, c=0):  # c has a default value\n",
        "        return a + b + c\n",
        "\n",
        "# Creating an instance of MathOperations\n",
        "math_ops = MathOperations()\n",
        "\n",
        "# Calling add with two arguments\n",
        "print(math_ops.add(2, 3))     # Output: 5\n",
        "\n",
        "# Calling add with three arguments\n",
        "print(math_ops.add(2, 3, 4))  # Output: 9\n"
      ],
      "metadata": {
        "colab": {
          "base_uri": "https://localhost:8080/"
        },
        "id": "trXtS_rubJZk",
        "outputId": "a196f4f9-6667-4bb1-f2e7-5f4f464a7faa"
      },
      "execution_count": 62,
      "outputs": [
        {
          "output_type": "stream",
          "name": "stdout",
          "text": [
            "5\n",
            "9\n"
          ]
        }
      ]
    },
    {
      "cell_type": "code",
      "source": [
        "class MathOperations:\n",
        "    def add(self, *args):  # Accepts a variable number of arguments\n",
        "        return sum(args)  # Sums all the provided arguments\n",
        "\n",
        "# Creating an instance of MathOperations\n",
        "math_ops = MathOperations()\n",
        "\n",
        "# Calling add\n",
        "print(math_ops.add(2, 3))          # Output: 5\n",
        "print(math_ops.add(2, 3, 4, 5))    # Output: 14\n"
      ],
      "metadata": {
        "colab": {
          "base_uri": "https://localhost:8080/"
        },
        "id": "HR-d3Uzr5oJQ",
        "outputId": "230addd1-2d99-4704-b62f-7d59836efe47"
      },
      "execution_count": 61,
      "outputs": [
        {
          "output_type": "stream",
          "name": "stdout",
          "text": [
            "5\n",
            "14\n"
          ]
        }
      ]
    },
    {
      "cell_type": "markdown",
      "source": [
        "\n",
        "\n",
        "---\n",
        "\n",
        "\n",
        "**Question 5**\n",
        "\n",
        "1. **Public Access Modifier**\n",
        "\n",
        "  *Definition*: Attributes and methods are accessible from anywhere, both inside and outside the class. This is the default level of access.\n",
        "\n",
        "  *Denotation*: Public attributes and methods are defined without any leading underscore\n",
        "\n",
        "2. **Private Access Modifier**\n",
        "\n",
        "  *Definition*: Attributes and methods are only accessible within the class where they are defined. They cannot be accessed from outside the class or even by subclasses.\n",
        "\n",
        "  *Denotation*: Defined with a double leading underscore. `__`\n",
        "\n",
        "3. **Protected Access Modifier**\n",
        "\n",
        "  *Definition*: Attributes and methods are intended to be accessible within the class and by subclasses (child classes). They are not meant to be accessed directly from outside the class.\n",
        "\n",
        "  *Denotation*: Defined with a single leading underscore. `_`\n",
        "python"
      ],
      "metadata": {
        "id": "y_8gx2ymjJmh"
      }
    },
    {
      "cell_type": "code",
      "source": [
        "# Public\n",
        "class Example:\n",
        "    def __init__(self):\n",
        "        self.public_attribute = \"I am public\"\n"
      ],
      "metadata": {
        "id": "IP4D6e3RjS17"
      },
      "execution_count": 60,
      "outputs": []
    },
    {
      "cell_type": "code",
      "source": [
        "# Protected\n",
        "class Example:\n",
        "    def __init__(self):\n",
        "        self._protected_attribute = \"I am protected\"\n"
      ],
      "metadata": {
        "id": "Kl-swSm4jWbW"
      },
      "execution_count": 59,
      "outputs": []
    },
    {
      "cell_type": "code",
      "source": [
        "# Private\n",
        "class Example:\n",
        "    def __init__(self):\n",
        "        self.__private_attribute = \"I am private\"\n"
      ],
      "metadata": {
        "id": "FQrsNiJxjXEb"
      },
      "execution_count": 58,
      "outputs": []
    },
    {
      "cell_type": "markdown",
      "source": [
        "\n",
        "\n",
        "---\n",
        "\n",
        "\n",
        "**Question 6**\n",
        "\n",
        "1. **Single Inheritance**: A child class inherits from one parent class, making it easy to understand and use the parent's features.\n",
        "\n",
        "2. **Multiple Inheritance**: A child class inherits from more than one parent class, allowing it to combine features from both.\n",
        "\n",
        "3. **Multilevel Inheritance**: A child class inherits from another child class creating a chain of inheritance.\n",
        "\n",
        "4. **Hierarchical Inheritance**: Multiple child classes inherit from one parent class.\n",
        "\n",
        "5. **Hybrid Inheritance**: A mix of different inheritance types."
      ],
      "metadata": {
        "id": "q3jKvXdmdI40"
      }
    },
    {
      "cell_type": "code",
      "source": [
        "# 1. Single Inheritance\n",
        "\n",
        "class Parent:\n",
        "    def show(self):\n",
        "        return \"This is the parent class.\"\n",
        "\n",
        "class Child(Parent):\n",
        "    def display(self):\n",
        "        return \"This is the child class.\"\n"
      ],
      "metadata": {
        "id": "-DGmz5Mseebt"
      },
      "execution_count": 57,
      "outputs": []
    },
    {
      "cell_type": "code",
      "source": [
        "# 2. Multiple Inheritance\n",
        "\n",
        "class Parent1:\n",
        "    def greet(self):\n",
        "        return \"Hello from Parent1.\"\n",
        "\n",
        "class Parent2:\n",
        "    def greet(self):\n",
        "        return \"Hello from Parent2.\"\n",
        "\n",
        "class Child(Parent1, Parent2):\n",
        "    def display(self):\n",
        "        return \"This is the child class.\"\n"
      ],
      "metadata": {
        "id": "O6KLznk_elfr"
      },
      "execution_count": 56,
      "outputs": []
    },
    {
      "cell_type": "code",
      "source": [
        "# 3. Multilevel Inheritance\n",
        "\n",
        "class Grandparent:\n",
        "    def show(self):\n",
        "        return \"This is the grandparent class.\"\n",
        "\n",
        "class Parent(Grandparent):\n",
        "    def display(self):\n",
        "        return \"This is the parent class.\"\n",
        "\n",
        "class Child(Parent):\n",
        "    def greet(self):\n",
        "        return \"This is the child class.\"\n"
      ],
      "metadata": {
        "id": "XPlEEaf5em8w"
      },
      "execution_count": 55,
      "outputs": []
    },
    {
      "cell_type": "code",
      "source": [
        "# 4. Hierarchical Inheritance\n",
        "\n",
        "class Parent:\n",
        "    def show(self):\n",
        "        return \"This is the parent class.\"\n",
        "\n",
        "class Child1(Parent):\n",
        "    def display(self):\n",
        "        return \"This is the first child class.\"\n",
        "\n",
        "class Child2(Parent):\n",
        "    def greet(self):\n",
        "        return \"This is the second child class.\"\n"
      ],
      "metadata": {
        "id": "cStLVtMcepHs"
      },
      "execution_count": 54,
      "outputs": []
    },
    {
      "cell_type": "code",
      "source": [
        "# 5. Hybrid Inheritance\n",
        "\n",
        "class Parent:\n",
        "    def show(self):\n",
        "        return \"This is the parent class.\"\n",
        "\n",
        "class Child1(Parent):\n",
        "    def display(self):\n",
        "        return \"This is the first child class.\"\n",
        "\n",
        "class Child2(Parent):\n",
        "    def greet(self):\n",
        "        return \"This is the second child class.\"\n",
        "\n",
        "class Grandchild(Child1, Child2):\n",
        "    def farewell(self):\n",
        "        return \"This is the grandchild class.\"\n"
      ],
      "metadata": {
        "id": "43gvCbkzeq0o"
      },
      "execution_count": 53,
      "outputs": []
    },
    {
      "cell_type": "markdown",
      "source": [
        "\n",
        "\n",
        "---\n",
        "\n",
        "\n",
        "**Question 7**\n",
        "\n",
        "*What is Method Resolution Order (MRO)?*\n",
        "\n",
        "The Method Resolution Order (MRO) in Python is the order in which Python looks for a method or attribute in a hierarchy of classes. Specifically, when you call a method on an object that belongs to a class, Python needs to determine which method to invoke if the method is present in multiple parent classes (in cases of inheritance).\n",
        "\n",
        "In multiple inheritance, MRO defines the sequence in which the base classes are searched for the method or attribute. It follows a set of rules to ensure a consistent and predictable search order.\n",
        "\n",
        "Python uses the C3 linearization algorithm to determine the MRO. This is used to avoid conflicts like the Diamond Problem.\n",
        "\n",
        "*You can retrieve the MRO for any class using the following methods:*\n",
        "\n",
        "* `class_name.__mro__`: This gives the MRO as a tuple.\n",
        "\n",
        "* `class_name.mro()`: This returns the MRO as a list.\n",
        "\n",
        "* `help(class_name)`: This prints helpful documentation, including the MRO of the class."
      ],
      "metadata": {
        "id": "z8VQkJ04ZQO1"
      }
    },
    {
      "cell_type": "code",
      "source": [
        "class A:\n",
        "    def greet(self):\n",
        "        print(\"Hello from A\")\n",
        "\n",
        "class B(A):\n",
        "    def greet(self):\n",
        "        print(\"Hello from B\")\n",
        "\n",
        "class C(A):\n",
        "    def greet(self):\n",
        "        print(\"Hello from C\")\n",
        "\n",
        "class D(B, C):\n",
        "    pass\n",
        "\n",
        "# Create an instance of D\n",
        "d = D()\n",
        "\n",
        "# Call the greet method\n",
        "d.greet()\n",
        "\n",
        "# Print MRO\n",
        "print(D.__mro__)\n",
        "\n"
      ],
      "metadata": {
        "colab": {
          "base_uri": "https://localhost:8080/"
        },
        "id": "YF-rryLQnR0z",
        "outputId": "8fd1e8d8-4d6e-4bab-b483-b6c7f20286f2"
      },
      "execution_count": 52,
      "outputs": [
        {
          "output_type": "stream",
          "name": "stdout",
          "text": [
            "Hello from B\n",
            "(<class '__main__.D'>, <class '__main__.B'>, <class '__main__.C'>, <class '__main__.A'>, <class 'object'>)\n"
          ]
        }
      ]
    },
    {
      "cell_type": "markdown",
      "source": [
        "\n",
        "\n",
        "---\n",
        "\n",
        "\n",
        "**Question 8**"
      ],
      "metadata": {
        "id": "N5pkeE3Vqt1z"
      }
    },
    {
      "cell_type": "code",
      "source": [
        "import abc  # Importing abstract base class functionality\n",
        "\n",
        "class Shape(abc.ABC):  # Abstract base class inheriting from abc.ABC\n",
        "    @abc.abstractmethod\n",
        "    def area(self):\n",
        "        pass\n",
        "\n",
        "class Circle(Shape):  # Subclass for circles\n",
        "    def __init__(self, radius):\n",
        "        self.radius = radius  # Initialize radius\n",
        "\n",
        "    def area(self):\n",
        "        return 3.14 * self.radius * self.radius  # Area formula for a circle\n",
        "\n",
        "class Rectangle(Shape):  # Subclass for rectangles\n",
        "    def __init__(self, length, width):\n",
        "        self.length = length  # Initialize length\n",
        "        self.width = width  # Initialize width\n",
        "\n",
        "    def area(self):\n",
        "        return self.length * self.width  # Area formula for a rectangle\n",
        "\n",
        "c1 = Circle(5)  # Create Circle instance\n",
        "print(c1.area())  # Output: 78.5\n",
        "\n",
        "r1 = Rectangle(5, 6)  # Create Rectangle instance\n",
        "print(r1.area())  # Output: 30\n"
      ],
      "metadata": {
        "colab": {
          "base_uri": "https://localhost:8080/"
        },
        "id": "JpUajtmtvqua",
        "outputId": "6a534369-390e-4db7-a334-90cf919ed732"
      },
      "execution_count": 66,
      "outputs": [
        {
          "output_type": "stream",
          "name": "stdout",
          "text": [
            "78.5\n",
            "30\n"
          ]
        }
      ]
    },
    {
      "cell_type": "markdown",
      "source": [
        "\n",
        "\n",
        "---\n",
        "\n",
        "\n",
        "**Question 9**"
      ],
      "metadata": {
        "id": "_LKwiyiyz7pS"
      }
    },
    {
      "cell_type": "code",
      "source": [
        "# Class for Circle\n",
        "class Circle:\n",
        "    def __init__(self, radius):\n",
        "        self.radius = radius  # Initialize radius\n",
        "\n",
        "    def area(self):\n",
        "        return 3.14 * self.radius ** 2  # Area formula for circle\n",
        "\n",
        "# Class for Rectangle\n",
        "class Rectangle:\n",
        "    def __init__(self, length, width):\n",
        "        self.length = length  # Initialize length\n",
        "        self.width = width    # Initialize width\n",
        "\n",
        "    def area(self):\n",
        "        return self.length * self.width  # Area formula for rectangle\n",
        "\n",
        "# Function to calculate and print area of any shape\n",
        "def print_area(shape):\n",
        "    print(f\"The area is: {shape.area()}\")  # Calls the area method of the shape object\n",
        "\n",
        "# Create instances of Circle and Rectangle\n",
        "circle = Circle(5)  # Circle with radius 5\n",
        "rectangle = Rectangle(4, 6)  # Rectangle with length 4 and width 6\n",
        "\n",
        "# Calculate and print areas\n",
        "print_area(circle)      # Output: The area is: 78.5\n",
        "print_area(rectangle)   # Output: The area is: 24\n"
      ],
      "metadata": {
        "colab": {
          "base_uri": "https://localhost:8080/"
        },
        "id": "ja3AikKQz7Qq",
        "outputId": "36cdd062-3b93-44d2-9ebd-2bc217c9f5e2"
      },
      "execution_count": 67,
      "outputs": [
        {
          "output_type": "stream",
          "name": "stdout",
          "text": [
            "The area is: 78.5\n",
            "The area is: 24\n"
          ]
        }
      ]
    },
    {
      "cell_type": "markdown",
      "source": [
        "\n",
        "\n",
        "---\n",
        "\n",
        "\n",
        "**Question 10**"
      ],
      "metadata": {
        "id": "8tF-sLKzIx0w"
      }
    },
    {
      "cell_type": "code",
      "source": [
        "class BankAccount:\n",
        "    def __init__(self, balance, acc_num):\n",
        "\n",
        "        self.__balance = balance  # Private attribute for balance\n",
        "        self.__acc_num = acc_num  # Private attribute for account number\n",
        "\n",
        "    # Method to inquire balance (access the private attribute)\n",
        "    def balance_inquiry(self):\n",
        "        return self.__balance\n",
        "\n",
        "    # Method to withdraw money\n",
        "    def withdraw(self, amount):\n",
        "        if amount <= self.__balance:\n",
        "            self.__balance -= amount  # Deduct amount if funds are sufficient\n",
        "        else:\n",
        "            print(\"Insufficient balance\")\n",
        "\n",
        "    # Method to deposit money\n",
        "    def deposit(self, amount):\n",
        "        self.__balance += amount  # Add amount to balance\n",
        "\n",
        "# Creating a BankAccount instance\n",
        "aryan = BankAccount(500, \"1234567890\")\n",
        "\n",
        "aryan.deposit(500)            # Depositing money\n",
        "print(aryan.balance_inquiry())\n",
        "\n",
        "aryan.withdraw(200)           # Withdrawing money\n",
        "print(aryan.balance_inquiry())\n",
        "\n"
      ],
      "metadata": {
        "colab": {
          "base_uri": "https://localhost:8080/"
        },
        "id": "CXELtjdcI15f",
        "outputId": "152caabf-0091-4273-d5d1-44eb0ad20977"
      },
      "execution_count": 49,
      "outputs": [
        {
          "output_type": "stream",
          "name": "stdout",
          "text": [
            "1000\n",
            "800\n"
          ]
        }
      ]
    },
    {
      "cell_type": "markdown",
      "source": [
        "\n",
        "\n",
        "---\n",
        "\n",
        "\n",
        "**Question 11**\n",
        "\n",
        "`__str__`: Defines the string representation of an object, used by print() and str().\n",
        "\n",
        "`__add__`: Defines the behavior of the + operator for your objects."
      ],
      "metadata": {
        "id": "25vMTMMkWOIN"
      }
    },
    {
      "cell_type": "code",
      "source": [
        "class Point:\n",
        "    def __init__(self, a, b):\n",
        "        self.a = a\n",
        "        self.b = b\n",
        "\n",
        "    def __str__(self):\n",
        "        # It Override the __str__ method to return a string representation of the Point.\n",
        "        return f\"Point({self.a}, {self.b})\"\n",
        "\n",
        "\n",
        "    def __add__(self, other):\n",
        "       #  It Override the __add__ method to add two Point objects.\n",
        "        if isinstance(other, Point):\n",
        "            new_a = self.a + other.a\n",
        "            new_b = self.b + other.b\n",
        "            return Point(new_a, new_b)\n",
        "        return NotImplemented  # Return NotImplemented if other is not a Point\n",
        "\n",
        "# Let's take a example\n",
        "point1 = Point(2, 3)\n",
        "point2 = Point(5, 7)\n",
        "\n",
        "# Using the __str__ method\n",
        "print(point1)\n",
        "print(point2)\n",
        "\n",
        "# Using the __add__ method\n",
        "point3 = point1 + point2\n",
        "print(point3)\n"
      ],
      "metadata": {
        "colab": {
          "base_uri": "https://localhost:8080/"
        },
        "id": "xKcTfs0htdTx",
        "outputId": "3e23aae1-9296-45a1-9c41-05582786d845"
      },
      "execution_count": 48,
      "outputs": [
        {
          "output_type": "stream",
          "name": "stdout",
          "text": [
            "Point(2, 3)\n",
            "Point(5, 7)\n",
            "Point(7, 10)\n"
          ]
        }
      ]
    },
    {
      "cell_type": "markdown",
      "source": [
        "\n",
        "\n",
        "---\n",
        "\n",
        "\n",
        "**Question 12**"
      ],
      "metadata": {
        "id": "VHsrwVbfceMk"
      }
    },
    {
      "cell_type": "code",
      "source": [
        "import time\n",
        "\n",
        "def timer(func):\n",
        "    def timer_inner(*args):  # Accept any number of positional arguments\n",
        "        start = time.time()\n",
        "        result = func(*args)  # Pass positional arguments to the function\n",
        "        end = time.time()\n",
        "        print(f\"Execution time: {end - start} seconds\")\n",
        "        return result\n",
        "    return timer_inner\n",
        "\n",
        "@timer\n",
        "def test_with_args(a, b):\n",
        "    print(a + b)\n",
        "\n",
        "test_with_args(100, 1)  # Passing any values\n"
      ],
      "metadata": {
        "colab": {
          "base_uri": "https://localhost:8080/"
        },
        "id": "rd5IgcdNcjb0",
        "outputId": "cc07cd62-5909-4d61-8d2a-2a947026cc0b"
      },
      "execution_count": 47,
      "outputs": [
        {
          "output_type": "stream",
          "name": "stdout",
          "text": [
            "101\n",
            "Execution time: 8.96453857421875e-05 seconds\n"
          ]
        }
      ]
    },
    {
      "cell_type": "markdown",
      "source": [
        "\n",
        "\n",
        "---\n",
        "\n",
        "\n",
        "**Question 13**\n",
        "\n",
        "*What is Diamond problem?*\n",
        "\n",
        "* The Diamond Problem is a common issue that arises in multiple inheritance scenarios\n",
        "\n",
        "* It occurs when a class inherits from two or more classes that have a common base class.\n",
        "\n",
        "* This can lead to ambiguity regarding which parent class method or attribute should be called, as the inheritance structure can resemble a diamond shape.\n",
        "\n",
        "    ```\n",
        "    A\n",
        "   / \\\n",
        "  B   C\n",
        "   \\ /\n",
        "    D\n",
        "\n",
        "*Solution of Diamond Problem:*\n",
        "\n",
        "* Python resolves the Diamond Problem using the Method Resolution Order (MRO), which determines the order in which base classes are looked up when searching for a method.\n",
        "* Python follows the C3 linearization algorithm to establish the MRO for a class.\n",
        "* It priortizes the leftmost class in the inheritance list"
      ],
      "metadata": {
        "id": "CVEKsuPQjd0m"
      }
    },
    {
      "cell_type": "code",
      "source": [
        "class A:\n",
        "    def show(self):\n",
        "        print(\"Method from class A\")\n",
        "\n",
        "class B(A):\n",
        "    def show(self):\n",
        "        print(\"Method from class B\")\n",
        "\n",
        "class C(A):\n",
        "    def show(self):\n",
        "        print(\"Method from class C\")\n",
        "\n",
        "class D(B, C):\n",
        "    pass\n",
        "\n",
        "# Creating an instance of class D\n",
        "d = D()\n",
        "d.show()  # B(A) will be printed because it is inherited first\n"
      ],
      "metadata": {
        "colab": {
          "base_uri": "https://localhost:8080/"
        },
        "id": "hVK9ZeAvlOiU",
        "outputId": "3ca867a9-70ab-4ec3-fc88-2389fefcad79"
      },
      "execution_count": 46,
      "outputs": [
        {
          "output_type": "stream",
          "name": "stdout",
          "text": [
            "Method from class B\n"
          ]
        }
      ]
    },
    {
      "cell_type": "markdown",
      "source": [
        "\n",
        "\n",
        "---\n",
        "\n",
        "\n",
        "**Question 14**"
      ],
      "metadata": {
        "id": "eSXNxKdN-KlJ"
      }
    },
    {
      "cell_type": "code",
      "source": [
        "class Car:\n",
        "    # Class variable to keep track of the number of Car instances\n",
        "    instance_count = 0\n",
        "\n",
        "    def __init__(self, make, model, year):\n",
        "        self.make = make\n",
        "        self.model = model\n",
        "        self.year = year\n",
        "\n",
        "        # Increment the instance count each time a new Car instance is created\n",
        "        Car.instance_count += 1\n",
        "\n",
        "    @classmethod\n",
        "    def get_instance_count(cls):\n",
        "        # Return the current count of Car instances\n",
        "        return cls.instance_count\n",
        "\n",
        "    def display_info(self):\n",
        "        return f\"This is a {self.year} {self.make} {self.model}\"\n",
        "\n",
        "# Create some instances of the Car class\n",
        "car1 = Car(\"Toyota\", \"Supra\", 2022)\n",
        "car2 = Car(\"Ford\", \"Mustang\", 2021)\n",
        "car3 = Car(\"Chevrolet\", \"Camaro\", 2020)\n",
        "car4 = Car(\"Toyota\", \"Supra\", 2022)\n",
        "# Print the number of Car instances created\n",
        "print(f\"Number of Car instances created: {Car.get_instance_count()}\")\n",
        "\n",
        "# Display information about each car\n",
        "print(car1.display_info())\n",
        "print(car2.display_info())\n",
        "print(car3.display_info())\n",
        "print(car4.display_info())"
      ],
      "metadata": {
        "colab": {
          "base_uri": "https://localhost:8080/"
        },
        "id": "GKsAeQTO-MUw",
        "outputId": "5b11ce62-aa3a-40c5-e62e-6075ca443c60"
      },
      "execution_count": 45,
      "outputs": [
        {
          "output_type": "stream",
          "name": "stdout",
          "text": [
            "Number of Car instances created: 4\n",
            "This is a 2022 Toyota Supra\n",
            "This is a 2021 Ford Mustang\n",
            "This is a 2020 Chevrolet Camaro\n",
            "This is a 2022 Toyota Supra\n"
          ]
        }
      ]
    },
    {
      "cell_type": "markdown",
      "source": [
        "\n",
        "\n",
        "---\n",
        "\n",
        "\n",
        "**Question 15**"
      ],
      "metadata": {
        "id": "RRAXColc_QmR"
      }
    },
    {
      "cell_type": "code",
      "source": [
        "class YearChecker:\n",
        "    @staticmethod\n",
        "    def is_leap_year(year):\n",
        "        # A year is a leap year if it is divisible by 4\n",
        "        # However, if it is divisible by 100, it is not a leap year, unless it is also divisible by 400\n",
        "        if (year % 4 == 0 and year % 100 != 0) or (year % 400 == 0):\n",
        "            return True\n",
        "        else:\n",
        "            return False\n",
        "\n",
        "# I am taking some examples here\n",
        "year = 2024\n",
        "if YearChecker.is_leap_year(year):\n",
        "    print(f\"{year} is a leap year.\")\n",
        "else:\n",
        "    print(f\"{year} is not a leap year.\")\n",
        "\n",
        "year = 1900\n",
        "if YearChecker.is_leap_year(year):\n",
        "    print(f\"{year} is a leap year.\")\n",
        "else:\n",
        "    print(f\"{year} is not a leap year.\")\n",
        "\n",
        "year = 2000\n",
        "if YearChecker.is_leap_year(year):\n",
        "    print(f\"{year} is a leap year.\")\n",
        "else:\n",
        "    print(f\"{year} is not a leap year.\")\n"
      ],
      "metadata": {
        "colab": {
          "base_uri": "https://localhost:8080/"
        },
        "id": "0po7Qw9Q_P0Y",
        "outputId": "c99c62d1-8ad6-43ed-bf0e-db74f81fcd84"
      },
      "execution_count": 44,
      "outputs": [
        {
          "output_type": "stream",
          "name": "stdout",
          "text": [
            "2024 is a leap year.\n",
            "1900 is not a leap year.\n",
            "2000 is a leap year.\n"
          ]
        }
      ]
    }
  ]
}